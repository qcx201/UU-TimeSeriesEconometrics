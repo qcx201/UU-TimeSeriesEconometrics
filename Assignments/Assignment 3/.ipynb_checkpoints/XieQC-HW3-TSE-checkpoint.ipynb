{
 "cells": [
  {
   "cell_type": "code",
   "execution_count": 1,
   "id": "969cb554",
   "metadata": {},
   "outputs": [],
   "source": [
    "import sympy as sp\n",
    "\n",
    "from IPython.display import display, Latex\n",
    "\n",
    "def disp(*args, end='.'):\n",
    "    '''\n",
    "    Helper function to display latex\n",
    "    '''\n",
    "    argstrs = [arg if type(arg) == str else sp.latex(arg) for arg in args]\n",
    "    res = ' '.join(argstrs)\n",
    "    display(Latex(r'$\\begin{align}' + res + end + '\\end{align}$'))"
   ]
  },
  {
   "cell_type": "code",
   "execution_count": 2,
   "id": "abdb64e7",
   "metadata": {},
   "outputs": [
    {
     "data": {
      "text/latex": [
       "$\\begin{align}\\Phi_1 &=  \\left[\\begin{matrix}0.75 & 0.5\\\\0 & 0.7\\end{matrix}\\right] ,\\\\ \\Phi_2 &=  \\left[\\begin{matrix}-1.25 & 0\\\\0 & -0.1\\end{matrix}\\right] ,\\\\ F &=  \\left[\\begin{matrix}0.75 & 0.5 & -1.25 & 0\\\\0 & 0.7 & 0 & -0.1\\\\1 & 0 & 0 & 0\\\\0 & 1 & 0 & 0\\end{matrix}\\right].\\end{align}$"
      ],
      "text/plain": [
       "<IPython.core.display.Latex object>"
      ]
     },
     "metadata": {},
     "output_type": "display_data"
    }
   ],
   "source": [
    "# define matrices\n",
    "\n",
    "Phi1 = sp.Matrix([\n",
    "    [0.75, 0.5],\n",
    "    [0, 0.7]\n",
    "                 ])\n",
    "\n",
    "Phi2 = sp.Matrix([\n",
    "    [-1.25, 0],\n",
    "    [0, -0.1]\n",
    "                 ])\n",
    "\n",
    "I = sp.Matrix.eye(*Phi1.shape)\n",
    "\n",
    "Zero = sp.Matrix.zeros(*Phi1.shape)\n",
    "\n",
    "F = sp.Matrix([\n",
    "    [Phi1, Phi2],\n",
    "    [I, Zero]\n",
    "])\n",
    "\n",
    "disp(r'\\Phi_1 &= ', Phi1,\n",
    "     r',\\\\ \\Phi_2 &= ', Phi2,\n",
    "     r',\\\\ F &= ', F\n",
    "    )"
   ]
  },
  {
   "cell_type": "code",
   "execution_count": 3,
   "id": "0117c720",
   "metadata": {},
   "outputs": [
    {
     "name": "stdout",
     "output_type": "stream",
     "text": [
      "sol 1 --------------------------------------------------\n"
     ]
    },
    {
     "data": {
      "text/latex": [
       "$\\begin{align}\\lambda_1 = 0.375 - 1.053 i ,\\quad |\\lambda_1| =  1.118 ,\\quad v_1 = \\left[\\begin{matrix}-0.7022 - 0.25 i\\\\0\\\\1.463 \\cdot 10^{-33} - 0.6667 i\\\\0\\end{matrix}\\right].\\end{align}$"
      ],
      "text/plain": [
       "<IPython.core.display.Latex object>"
      ]
     },
     "metadata": {},
     "output_type": "display_data"
    },
    {
     "data": {
      "text/latex": [
       "$\\begin{align}Fv_1 =  \\left[\\begin{matrix}-0.5266 + 0.6458 i\\\\0\\\\-0.7022 - 0.25 i\\\\0\\end{matrix}\\right] ,\\quad\\lambda v_1 = \\left[\\begin{matrix}-0.5266 + 0.6458 i\\\\0\\\\-0.7022 - 0.25 i\\\\0\\end{matrix}\\right].\\end{align}$"
      ],
      "text/plain": [
       "<IPython.core.display.Latex object>"
      ]
     },
     "metadata": {},
     "output_type": "display_data"
    },
    {
     "name": "stdout",
     "output_type": "stream",
     "text": [
      "sol 2 --------------------------------------------------\n"
     ]
    },
    {
     "data": {
      "text/latex": [
       "$\\begin{align}\\lambda_2 = 0.375 + 1.053 i ,\\quad |\\lambda_2| =  1.118 ,\\quad v_2 = \\left[\\begin{matrix}0.267 + 0.75 i\\\\0\\\\0.7121 + 2.17 \\cdot 10^{-35} i\\\\0\\end{matrix}\\right].\\end{align}$"
      ],
      "text/plain": [
       "<IPython.core.display.Latex object>"
      ]
     },
     "metadata": {},
     "output_type": "display_data"
    },
    {
     "data": {
      "text/latex": [
       "$\\begin{align}Fv_2 =  \\left[\\begin{matrix}-0.6898 + 0.5625 i\\\\0\\\\0.267 + 0.75 i\\\\0\\end{matrix}\\right] ,\\quad\\lambda v_2 = \\left[\\begin{matrix}-0.6898 + 0.5625 i\\\\0\\\\0.267 + 0.75 i\\\\0\\end{matrix}\\right].\\end{align}$"
      ],
      "text/plain": [
       "<IPython.core.display.Latex object>"
      ]
     },
     "metadata": {},
     "output_type": "display_data"
    },
    {
     "name": "stdout",
     "output_type": "stream",
     "text": [
      "sol 3 --------------------------------------------------\n"
     ]
    },
    {
     "data": {
      "text/latex": [
       "$\\begin{align}\\lambda_3 = 0.5 ,\\quad |\\lambda_3| =  0.5 ,\\quad v_3 = \\left[\\begin{matrix}-0.09938 - 2.244 \\cdot 10^{-33} i\\\\-0.4472\\\\-0.1988 + 9.428 \\cdot 10^{-34} i\\\\-0.8944\\end{matrix}\\right].\\end{align}$"
      ],
      "text/plain": [
       "<IPython.core.display.Latex object>"
      ]
     },
     "metadata": {},
     "output_type": "display_data"
    },
    {
     "data": {
      "text/latex": [
       "$\\begin{align}Fv_3 =  \\left[\\begin{matrix}-0.04969 - 2.861 \\cdot 10^{-33} i\\\\-0.2236\\\\-0.09938 - 2.244 \\cdot 10^{-33} i\\\\-0.4472\\end{matrix}\\right] ,\\quad\\lambda v_3 = \\left[\\begin{matrix}-0.04969 - 1.122 \\cdot 10^{-33} i\\\\-0.2236\\\\-0.09938 + 4.714 \\cdot 10^{-34} i\\\\-0.4472\\end{matrix}\\right].\\end{align}$"
      ],
      "text/plain": [
       "<IPython.core.display.Latex object>"
      ]
     },
     "metadata": {},
     "output_type": "display_data"
    },
    {
     "name": "stdout",
     "output_type": "stream",
     "text": [
      "sol 4 --------------------------------------------------\n"
     ]
    },
    {
     "data": {
      "text/latex": [
       "$\\begin{align}\\lambda_4 = 0.2 ,\\quad |\\lambda_4| =  0.2 ,\\quad v_4 = \\left[\\begin{matrix}0.01783 - 2.038 \\cdot 10^{-35} i\\\\0.2033\\\\0.08916 - 3.739 \\cdot 10^{-34} i\\\\1.016\\end{matrix}\\right].\\end{align}$"
      ],
      "text/plain": [
       "<IPython.core.display.Latex object>"
      ]
     },
     "metadata": {},
     "output_type": "display_data"
    },
    {
     "data": {
      "text/latex": [
       "$\\begin{align}Fv_4 =  \\left[\\begin{matrix}0.003566 + 4.521 \\cdot 10^{-34} i\\\\0.04066\\\\0.01783 - 2.038 \\cdot 10^{-35} i\\\\0.2033\\end{matrix}\\right] ,\\quad\\lambda v_4 = \\left[\\begin{matrix}0.003566 - 4.075 \\cdot 10^{-36} i\\\\0.04066\\\\0.01783 - 7.478 \\cdot 10^{-35} i\\\\0.2033\\end{matrix}\\right].\\end{align}$"
      ],
      "text/plain": [
       "<IPython.core.display.Latex object>"
      ]
     },
     "metadata": {},
     "output_type": "display_data"
    }
   ],
   "source": [
    "# solve eigenvalues\n",
    "\n",
    "d = 4 # decimals\n",
    "\n",
    "eigenvals, eigenvecs = [], []\n",
    "\n",
    "for i, res in enumerate(F.eigenvects()):\n",
    "    \n",
    "    n = i+1\n",
    "    print(f'sol {n}', '-'*50)\n",
    "    \n",
    "    lm = res[0]\n",
    "    eigenvals.append(lm)\n",
    "    \n",
    "    v = res[-1][0]\n",
    "    eigenvecs.append(v)\n",
    "    \n",
    "    \n",
    "    disp(f'\\lambda_{n} =', lm.evalf(d),\n",
    "         f',\\quad |\\lambda_{n}| = ', abs(lm).evalf(d),\n",
    "         f',\\quad v_{n} =', v.evalf(d))\n",
    "    \n",
    "    disp(f'Fv_{n} = ', (F@v).simplify().evalf(d),\n",
    "         f',\\quad\\lambda v_{n} =',\n",
    "         (lm*v).simplify().evalf(d)\n",
    "        )\n",
    "    "
   ]
  },
  {
   "cell_type": "code",
   "execution_count": 5,
   "id": "c6421e82",
   "metadata": {},
   "outputs": [
    {
     "data": {
      "text/latex": [
       "$\\begin{align}\\Lambda &= \\left[\\begin{matrix}0.375 - 1.053 i & 0 & 0 & 0\\\\0 & 0.375 + 1.053 i & 0 & 0\\\\0 & 0 & 0.5 & 0\\\\0 & 0 & 0 & 0.2\\end{matrix}\\right] ,\\\\ T &= \\left[\\begin{matrix}-0.7022 - 0.25 i & 0.267 + 0.75 i & -0.09938 - 2.244 \\cdot 10^{-33} i & 0.01783 - 2.038 \\cdot 10^{-35} i\\\\0 & 0 & -0.4472 & 0.2033\\\\1.463 \\cdot 10^{-33} - 0.6667 i & 0.7121 + 2.17 \\cdot 10^{-35} i & -0.1988 + 9.428 \\cdot 10^{-34} i & 0.08916 - 3.739 \\cdot 10^{-34} i\\\\0 & 0 & -0.8944 & 1.016\\end{matrix}\\right] ,\\\\ T^{-1} &= \\left[\\begin{matrix}-0.7121 - 2.624 \\cdot 10^{-17} i & 0.1024 - 0.3363 i & 0.267 + 0.75 i & -0.0314 + 0.001462 i\\\\-1.85 \\cdot 10^{-17} - 0.6667 i & -0.3148 + 0.09584 i & 0.7022 + 0.25 i & 0.001369 - 0.0294 i\\\\0 & -3.727 & 0 & 0.7454\\\\0 & -3.28 & 0 & 1.64\\end{matrix}\\right].\\end{align}$"
      ],
      "text/plain": [
       "<IPython.core.display.Latex object>"
      ]
     },
     "metadata": {},
     "output_type": "display_data"
    }
   ],
   "source": [
    "d = 4 # decimals\n",
    "\n",
    "Lm = sp.diag(*eigenvals)\n",
    "T = sp.Matrix(eigenvecs).reshape(4, 4).T\n",
    "T_inv = T.inv()\n",
    "\n",
    "disp(r'\\Lambda &=', Lm.evalf(d),\n",
    "     r',\\\\ T &=', T.evalf(d),\n",
    "     r',\\\\ T^{-1} &=', T_inv.evalf(d))"
   ]
  },
  {
   "cell_type": "code",
   "execution_count": 6,
   "id": "aeb52198",
   "metadata": {},
   "outputs": [
    {
     "data": {
      "text/latex": [
       "$\\begin{align}T \\Lambda T^{-1} &= \\left[\\begin{matrix}0.75 + 6.0 \\cdot 10^{-17} i & 0.5 + 1.0 \\cdot 10^{-10} i & -1.25 + 1.0 \\cdot 10^{-16} i & -2.949 \\cdot 10^{-17} + 6.939 \\cdot 10^{-18} i\\\\0 & 0.7 & 0 & -0.1\\\\1.0 - 3.0 \\cdot 10^{-17} i & -5.551 \\cdot 10^{-17} - 2.0 \\cdot 10^{-33} i & 1.068 \\cdot 10^{-16} + 2.22 \\cdot 10^{-16} i & 2.082 \\cdot 10^{-17} - 9.541 \\cdot 10^{-18} i\\\\0 & 1.0 & 0 & -5.551 \\cdot 10^{-17}\\end{matrix}\\right] ,\\\\ F &= \\left[\\begin{matrix}0.75 & 0.5 & -1.25 & 0\\\\0 & 0.7 & 0 & -0.1\\\\1 & 0 & 0 & 0\\\\0 & 1 & 0 & 0\\end{matrix}\\right].\\end{align}$"
      ],
      "text/plain": [
       "<IPython.core.display.Latex object>"
      ]
     },
     "metadata": {},
     "output_type": "display_data"
    }
   ],
   "source": [
    "# check diagonized form\n",
    "F_eig = (T @ Lm @ T_inv)\n",
    "\n",
    "disp(r'T \\Lambda T^{-1} &=', F_eig.evalf(d),\n",
    "     r',\\\\ F &=', F)\n"
   ]
  },
  {
   "cell_type": "code",
   "execution_count": null,
   "id": "c3f97139",
   "metadata": {},
   "outputs": [],
   "source": []
  }
 ],
 "metadata": {
  "kernelspec": {
   "display_name": "Python 3 (ipykernel)",
   "language": "python",
   "name": "python3"
  },
  "language_info": {
   "codemirror_mode": {
    "name": "ipython",
    "version": 3
   },
   "file_extension": ".py",
   "mimetype": "text/x-python",
   "name": "python",
   "nbconvert_exporter": "python",
   "pygments_lexer": "ipython3",
   "version": "3.9.12"
  }
 },
 "nbformat": 4,
 "nbformat_minor": 5
}
